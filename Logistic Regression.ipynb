{
 "cells": [
  {
   "cell_type": "code",
   "execution_count": 1,
   "metadata": {
    "collapsed": true
   },
   "outputs": [],
   "source": [
    "import numpy as np\n",
    "import pandas as pd\n",
    "import warnings \n",
    "warnings.filterwarnings('ignore')\n",
    "from sklearn.linear_model import LogisticRegression\n",
    "from sklearn.metrics import roc_auc_score\n",
    "from sklearn.metrics import roc_curve\n",
    "from sklearn import metrics\n",
    "%matplotlib inline\n",
    "from matplotlib import pyplot as plt"
   ]
  },
  {
   "cell_type": "code",
   "execution_count": 6,
   "metadata": {},
   "outputs": [
    {
     "data": {
      "text/html": [
       "<div>\n",
       "<style>\n",
       "    .dataframe thead tr:only-child th {\n",
       "        text-align: right;\n",
       "    }\n",
       "\n",
       "    .dataframe thead th {\n",
       "        text-align: left;\n",
       "    }\n",
       "\n",
       "    .dataframe tbody tr th {\n",
       "        vertical-align: top;\n",
       "    }\n",
       "</style>\n",
       "<table border=\"1\" class=\"dataframe\">\n",
       "  <thead>\n",
       "    <tr style=\"text-align: right;\">\n",
       "      <th></th>\n",
       "      <th>Cli_ItemID</th>\n",
       "      <th>ttl_Cli</th>\n",
       "      <th>AVG_CLI</th>\n",
       "      <th>Item_CLI</th>\n",
       "      <th>Fre_Cli_Itm</th>\n",
       "      <th>IN_Fre_Ctg</th>\n",
       "      <th>Cli_Wd</th>\n",
       "      <th>Cli_T</th>\n",
       "      <th>Dur_Sec</th>\n",
       "      <th>Cli_buy</th>\n",
       "      <th>Item_bought_P90</th>\n",
       "      <th>Fir_Cli</th>\n",
       "      <th>Las_Cli</th>\n",
       "      <th>Item_avg_pric</th>\n",
       "      <th>AVG_Pric</th>\n",
       "      <th>Pri_ctg_P90</th>\n",
       "      <th>below_ctg_avg_pric</th>\n",
       "      <th>below_ctg_P90</th>\n",
       "    </tr>\n",
       "  </thead>\n",
       "  <tbody>\n",
       "    <tr>\n",
       "      <th>0</th>\n",
       "      <td>214851326.0</td>\n",
       "      <td>8.0</td>\n",
       "      <td>2.0</td>\n",
       "      <td>3.0</td>\n",
       "      <td>1.0</td>\n",
       "      <td>1.0</td>\n",
       "      <td>5.0</td>\n",
       "      <td>3.0</td>\n",
       "      <td>255.0</td>\n",
       "      <td>3.0</td>\n",
       "      <td>1.0</td>\n",
       "      <td>0.0</td>\n",
       "      <td>0.0</td>\n",
       "      <td>1046.0</td>\n",
       "      <td>1923.025449</td>\n",
       "      <td>4920.6</td>\n",
       "      <td>1.0</td>\n",
       "      <td>1.0</td>\n",
       "    </tr>\n",
       "    <tr>\n",
       "      <th>1</th>\n",
       "      <td>214853248.0</td>\n",
       "      <td>8.0</td>\n",
       "      <td>2.0</td>\n",
       "      <td>1.0</td>\n",
       "      <td>0.0</td>\n",
       "      <td>0.0</td>\n",
       "      <td>5.0</td>\n",
       "      <td>3.0</td>\n",
       "      <td>0.0</td>\n",
       "      <td>1.0</td>\n",
       "      <td>1.0</td>\n",
       "      <td>0.0</td>\n",
       "      <td>0.0</td>\n",
       "      <td>837.0</td>\n",
       "      <td>2061.555292</td>\n",
       "      <td>48380.5</td>\n",
       "      <td>1.0</td>\n",
       "      <td>1.0</td>\n",
       "    </tr>\n",
       "    <tr>\n",
       "      <th>2</th>\n",
       "      <td>214853094.0</td>\n",
       "      <td>8.0</td>\n",
       "      <td>2.0</td>\n",
       "      <td>1.0</td>\n",
       "      <td>0.0</td>\n",
       "      <td>1.0</td>\n",
       "      <td>5.0</td>\n",
       "      <td>3.0</td>\n",
       "      <td>0.0</td>\n",
       "      <td>1.0</td>\n",
       "      <td>1.0</td>\n",
       "      <td>0.0</td>\n",
       "      <td>0.0</td>\n",
       "      <td>4188.0</td>\n",
       "      <td>1923.025449</td>\n",
       "      <td>4920.6</td>\n",
       "      <td>0.0</td>\n",
       "      <td>1.0</td>\n",
       "    </tr>\n",
       "    <tr>\n",
       "      <th>3</th>\n",
       "      <td>214853090.0</td>\n",
       "      <td>8.0</td>\n",
       "      <td>2.0</td>\n",
       "      <td>3.0</td>\n",
       "      <td>1.0</td>\n",
       "      <td>1.0</td>\n",
       "      <td>5.0</td>\n",
       "      <td>3.0</td>\n",
       "      <td>3117.0</td>\n",
       "      <td>3.0</td>\n",
       "      <td>1.0</td>\n",
       "      <td>1.0</td>\n",
       "      <td>1.0</td>\n",
       "      <td>4188.0</td>\n",
       "      <td>1923.025449</td>\n",
       "      <td>4920.6</td>\n",
       "      <td>0.0</td>\n",
       "      <td>1.0</td>\n",
       "    </tr>\n",
       "    <tr>\n",
       "      <th>4</th>\n",
       "      <td>214567333.0</td>\n",
       "      <td>4.0</td>\n",
       "      <td>1.0</td>\n",
       "      <td>1.0</td>\n",
       "      <td>0.0</td>\n",
       "      <td>1.0</td>\n",
       "      <td>7.0</td>\n",
       "      <td>2.0</td>\n",
       "      <td>0.0</td>\n",
       "      <td>1.0</td>\n",
       "      <td>1.0</td>\n",
       "      <td>0.0</td>\n",
       "      <td>0.0</td>\n",
       "      <td>837.0</td>\n",
       "      <td>2061.555292</td>\n",
       "      <td>48380.5</td>\n",
       "      <td>1.0</td>\n",
       "      <td>1.0</td>\n",
       "    </tr>\n",
       "  </tbody>\n",
       "</table>\n",
       "</div>"
      ],
      "text/plain": [
       "    Cli_ItemID  ttl_Cli  AVG_CLI  Item_CLI  Fre_Cli_Itm  IN_Fre_Ctg  Cli_Wd  \\\n",
       "0  214851326.0      8.0      2.0       3.0          1.0         1.0     5.0   \n",
       "1  214853248.0      8.0      2.0       1.0          0.0         0.0     5.0   \n",
       "2  214853094.0      8.0      2.0       1.0          0.0         1.0     5.0   \n",
       "3  214853090.0      8.0      2.0       3.0          1.0         1.0     5.0   \n",
       "4  214567333.0      4.0      1.0       1.0          0.0         1.0     7.0   \n",
       "\n",
       "   Cli_T  Dur_Sec  Cli_buy  Item_bought_P90  Fir_Cli  Las_Cli  Item_avg_pric  \\\n",
       "0    3.0    255.0      3.0              1.0      0.0      0.0         1046.0   \n",
       "1    3.0      0.0      1.0              1.0      0.0      0.0          837.0   \n",
       "2    3.0      0.0      1.0              1.0      0.0      0.0         4188.0   \n",
       "3    3.0   3117.0      3.0              1.0      1.0      1.0         4188.0   \n",
       "4    2.0      0.0      1.0              1.0      0.0      0.0          837.0   \n",
       "\n",
       "      AVG_Pric  Pri_ctg_P90  below_ctg_avg_pric  below_ctg_P90  \n",
       "0  1923.025449       4920.6                 1.0            1.0  \n",
       "1  2061.555292      48380.5                 1.0            1.0  \n",
       "2  1923.025449       4920.6                 0.0            1.0  \n",
       "3  1923.025449       4920.6                 0.0            1.0  \n",
       "4  2061.555292      48380.5                 1.0            1.0  "
      ]
     },
     "execution_count": 6,
     "metadata": {},
     "output_type": "execute_result"
    }
   ],
   "source": [
    "train = pd.read_csv('Task2_Train_Data_pro.csv', low_memory = False, delimiter =',')\n",
    "pre_target = train['Pred_Target'].values\n",
    "train.drop(['Buy_sesID'],axis=1,inplace = True )\n",
    "train.drop(['Unnamed: 0'], axis =1, inplace = True)\n",
    "#train.drop(['Pred_Target'], axis =1, inplace = True)\n",
    "train.head()"
   ]
  },
  {
   "cell_type": "code",
   "execution_count": 7,
   "metadata": {},
   "outputs": [
    {
     "data": {
      "text/plain": [
       "LogisticRegression(C=1.0, class_weight=None, dual=False, fit_intercept=True,\n",
       "          intercept_scaling=1, max_iter=100, multi_class='ovr', n_jobs=1,\n",
       "          penalty='l2', random_state=42, solver='liblinear', tol=0.0001,\n",
       "          verbose=0, warm_start=False)"
      ]
     },
     "execution_count": 7,
     "metadata": {},
     "output_type": "execute_result"
    }
   ],
   "source": [
    "log_reg = LogisticRegression(random_state = 42)\n",
    "log_reg.fit(train.values, pre_target)"
   ]
  },
  {
   "cell_type": "code",
   "execution_count": 8,
   "metadata": {},
   "outputs": [
    {
     "data": {
      "text/plain": [
       "0.54079172094776917"
      ]
     },
     "execution_count": 8,
     "metadata": {},
     "output_type": "execute_result"
    }
   ],
   "source": [
    "log_reg.score(train, pre_target)"
   ]
  },
  {
   "cell_type": "code",
   "execution_count": 12,
   "metadata": {},
   "outputs": [
    {
     "data": {
      "text/plain": [
       "0.61187749261447633"
      ]
     },
     "execution_count": 12,
     "metadata": {},
     "output_type": "execute_result"
    }
   ],
   "source": [
    "probs = log_reg.predict_proba(train)\n",
    "#print (min(probs[:,0]))\n",
    "#print (max(probs[:,0]))\n",
    "y_pred = probs[:,0]\n",
    "roc_auc_score(pre_target,y_pred)"
   ]
  },
  {
   "cell_type": "code",
   "execution_count": 10,
   "metadata": {},
   "outputs": [
    {
     "data": {
      "image/png": "[encoded data removed]",
      "text/plain": [
       "<matplotlib.figure.Figure at 0x1a90010d358>"
      ]
     },
     "metadata": {},
     "output_type": "display_data"
    }
   ],
   "source": [
    "\n",
    "fpr, tpr, threshold = roc_curve(pre_target, y_pred)\n",
    "df = pd.DataFrame(dict(fpr = fpr, tpr =tpr))\n",
    "roc_auc = metrics.auc(fpr,tpr)\n",
    "\n",
    "plt.title('Train ROC curve')\n",
    "plt.plot(fpr,tpr,'b', label = 'AUC = %0.2f' % roc_auc)\n",
    "plt.plot([0,1],[0,1],'r--')\n",
    "plt.xlim([0,1])\n",
    "plt.ylim([0,1])\n",
    "plt.ylabel('True Positive Rate')\n",
    "plt.xlabel('False Positive Rate')\n",
    "plt.show()\n"
   ]
  },
  {
   "cell_type": "markdown",
   "metadata": {},
   "source": [
    "Validation"
   ]
  },
  {
   "cell_type": "code",
   "execution_count": 60,
   "metadata": {},
   "outputs": [
    {
     "data": {
      "text/html": [
       "<div>\n",
       "<style>\n",
       "    .dataframe thead tr:only-child th {\n",
       "        text-align: right;\n",
       "    }\n",
       "\n",
       "    .dataframe thead th {\n",
       "        text-align: left;\n",
       "    }\n",
       "\n",
       "    .dataframe tbody tr th {\n",
       "        vertical-align: top;\n",
       "    }\n",
       "</style>\n",
       "<table border=\"1\" class=\"dataframe\">\n",
       "  <thead>\n",
       "    <tr style=\"text-align: right;\">\n",
       "      <th></th>\n",
       "      <th>Cli_ItemID</th>\n",
       "      <th>ttl_Cli</th>\n",
       "      <th>AVG_CLI</th>\n",
       "      <th>Item_CLI</th>\n",
       "      <th>Fre_Cli_Itm</th>\n",
       "      <th>IN_Fre_Ctg</th>\n",
       "      <th>Cli_Wd</th>\n",
       "      <th>Cli_T</th>\n",
       "      <th>Dur_Sec</th>\n",
       "      <th>Cli_buy</th>\n",
       "      <th>Item_bought_P90</th>\n",
       "      <th>Fir_Cli</th>\n",
       "      <th>Las_Cli</th>\n",
       "      <th>Item_avg_pric</th>\n",
       "      <th>AVG_Pric</th>\n",
       "      <th>Pri_ctg_P90</th>\n",
       "      <th>Pred_Target</th>\n",
       "      <th>below_ctg_avg_pric</th>\n",
       "      <th>below_ctg_P90</th>\n",
       "    </tr>\n",
       "  </thead>\n",
       "  <tbody>\n",
       "    <tr>\n",
       "      <th>0</th>\n",
       "      <td>214854358.0</td>\n",
       "      <td>5.0</td>\n",
       "      <td>2.5</td>\n",
       "      <td>2.0</td>\n",
       "      <td>0.0</td>\n",
       "      <td>1.0</td>\n",
       "      <td>4.0</td>\n",
       "      <td>3.0</td>\n",
       "      <td>149.0</td>\n",
       "      <td>3.0</td>\n",
       "      <td>1.0</td>\n",
       "      <td>1.0</td>\n",
       "      <td>1.0</td>\n",
       "      <td>1360.0</td>\n",
       "      <td>1923.025449</td>\n",
       "      <td>4920.6</td>\n",
       "      <td>0.0</td>\n",
       "      <td>1.0</td>\n",
       "      <td>1.0</td>\n",
       "    </tr>\n",
       "    <tr>\n",
       "      <th>1</th>\n",
       "      <td>214859126.0</td>\n",
       "      <td>5.0</td>\n",
       "      <td>2.5</td>\n",
       "      <td>3.0</td>\n",
       "      <td>1.0</td>\n",
       "      <td>1.0</td>\n",
       "      <td>4.0</td>\n",
       "      <td>3.0</td>\n",
       "      <td>946.0</td>\n",
       "      <td>3.0</td>\n",
       "      <td>1.0</td>\n",
       "      <td>1.0</td>\n",
       "      <td>1.0</td>\n",
       "      <td>1570.0</td>\n",
       "      <td>1923.025449</td>\n",
       "      <td>4920.6</td>\n",
       "      <td>1.0</td>\n",
       "      <td>1.0</td>\n",
       "      <td>1.0</td>\n",
       "    </tr>\n",
       "    <tr>\n",
       "      <th>2</th>\n",
       "      <td>214712244.0</td>\n",
       "      <td>3.0</td>\n",
       "      <td>1.0</td>\n",
       "      <td>1.0</td>\n",
       "      <td>0.0</td>\n",
       "      <td>1.0</td>\n",
       "      <td>3.0</td>\n",
       "      <td>4.0</td>\n",
       "      <td>0.0</td>\n",
       "      <td>1.0</td>\n",
       "      <td>1.0</td>\n",
       "      <td>1.0</td>\n",
       "      <td>1.0</td>\n",
       "      <td>947.0</td>\n",
       "      <td>2061.555292</td>\n",
       "      <td>48380.5</td>\n",
       "      <td>1.0</td>\n",
       "      <td>1.0</td>\n",
       "      <td>1.0</td>\n",
       "    </tr>\n",
       "    <tr>\n",
       "      <th>3</th>\n",
       "      <td>214676480.0</td>\n",
       "      <td>3.0</td>\n",
       "      <td>1.0</td>\n",
       "      <td>1.0</td>\n",
       "      <td>0.0</td>\n",
       "      <td>1.0</td>\n",
       "      <td>3.0</td>\n",
       "      <td>4.0</td>\n",
       "      <td>0.0</td>\n",
       "      <td>1.0</td>\n",
       "      <td>1.0</td>\n",
       "      <td>1.0</td>\n",
       "      <td>1.0</td>\n",
       "      <td>5538.0</td>\n",
       "      <td>2061.555292</td>\n",
       "      <td>48380.5</td>\n",
       "      <td>0.0</td>\n",
       "      <td>0.0</td>\n",
       "      <td>1.0</td>\n",
       "    </tr>\n",
       "    <tr>\n",
       "      <th>4</th>\n",
       "      <td>214690839.0</td>\n",
       "      <td>3.0</td>\n",
       "      <td>1.0</td>\n",
       "      <td>1.0</td>\n",
       "      <td>0.0</td>\n",
       "      <td>1.0</td>\n",
       "      <td>3.0</td>\n",
       "      <td>4.0</td>\n",
       "      <td>0.0</td>\n",
       "      <td>1.0</td>\n",
       "      <td>0.0</td>\n",
       "      <td>0.0</td>\n",
       "      <td>0.0</td>\n",
       "      <td>686.0</td>\n",
       "      <td>2061.555292</td>\n",
       "      <td>48380.5</td>\n",
       "      <td>0.0</td>\n",
       "      <td>1.0</td>\n",
       "      <td>1.0</td>\n",
       "    </tr>\n",
       "  </tbody>\n",
       "</table>\n",
       "</div>"
      ],
      "text/plain": [
       "    Cli_ItemID  ttl_Cli  AVG_CLI  Item_CLI  Fre_Cli_Itm  IN_Fre_Ctg  Cli_Wd  \\\n",
       "0  214854358.0      5.0      2.5       2.0          0.0         1.0     4.0   \n",
       "1  214859126.0      5.0      2.5       3.0          1.0         1.0     4.0   \n",
       "2  214712244.0      3.0      1.0       1.0          0.0         1.0     3.0   \n",
       "3  214676480.0      3.0      1.0       1.0          0.0         1.0     3.0   \n",
       "4  214690839.0      3.0      1.0       1.0          0.0         1.0     3.0   \n",
       "\n",
       "   Cli_T  Dur_Sec  Cli_buy  Item_bought_P90  Fir_Cli  Las_Cli  Item_avg_pric  \\\n",
       "0    3.0    149.0      3.0              1.0      1.0      1.0         1360.0   \n",
       "1    3.0    946.0      3.0              1.0      1.0      1.0         1570.0   \n",
       "2    4.0      0.0      1.0              1.0      1.0      1.0          947.0   \n",
       "3    4.0      0.0      1.0              1.0      1.0      1.0         5538.0   \n",
       "4    4.0      0.0      1.0              0.0      0.0      0.0          686.0   \n",
       "\n",
       "      AVG_Pric  Pri_ctg_P90  Pred_Target  below_ctg_avg_pric  below_ctg_P90  \n",
       "0  1923.025449       4920.6          0.0                 1.0            1.0  \n",
       "1  1923.025449       4920.6          1.0                 1.0            1.0  \n",
       "2  2061.555292      48380.5          1.0                 1.0            1.0  \n",
       "3  2061.555292      48380.5          0.0                 0.0            1.0  \n",
       "4  2061.555292      48380.5          0.0                 1.0            1.0  "
      ]
     },
     "execution_count": 60,
     "metadata": {},
     "output_type": "execute_result"
    }
   ],
   "source": [
    "Valid = pd.read_csv('Task2_Validation_Data_pro.csv', low_memory = False, delimiter =',')\n",
    "Valid.drop(['Buy_sesID'], axis =1, inplace = True)\n",
    "Valid.drop(['Unnamed: 0'], axis =1, inplace = True)\n",
    "Valid.head()"
   ]
  },
  {
   "cell_type": "code",
   "execution_count": 61,
   "metadata": {},
   "outputs": [
    {
     "data": {
      "text/plain": [
       "0.53613744075829384"
      ]
     },
     "execution_count": 61,
     "metadata": {},
     "output_type": "execute_result"
    }
   ],
   "source": [
    "log_reg.score(Valid,Valid ['Pred_Target'].values)"
   ]
  },
  {
   "cell_type": "code",
   "execution_count": 63,
   "metadata": {},
   "outputs": [
    {
     "data": {
      "text/plain": [
       "0.62838140130399744"
      ]
     },
     "execution_count": 63,
     "metadata": {},
     "output_type": "execute_result"
    }
   ],
   "source": [
    "probs_V = log_reg.predict_proba(Valid)\n",
    "y_pred_V = probs_V[:,0]\n",
    "y_true_V = Valid['Pred_Target'].values\n",
    "roc_auc_score(y_true_V,y_pred_V)"
   ]
  },
  {
   "cell_type": "code",
   "execution_count": 64,
   "metadata": {},
   "outputs": [
    {
     "data": {
      "image/png": "[encoded data removed]",
      "text/plain": [
       "<matplotlib.figure.Figure at 0x256cc5128d0>"
      ]
     },
     "metadata": {},
     "output_type": "display_data"
    }
   ],
   "source": [
    "fpr, tpr, threshold = roc_curve(y_true, y_pred)\n",
    "df = pd.DataFrame(dict(fpr = fpr, tpr =tpr))\n",
    "roc_auc = metrics.auc(fpr,tpr)\n",
    "\n",
    "plt.title('Validation ROC curve')\n",
    "plt.plot(fpr,tpr,'b', label = 'AUC = %0.2f' % roc_auc)\n",
    "plt.plot([0,1],[0,1],'r--')\n",
    "plt.xlim([0,1])\n",
    "plt.ylim([0,1])\n",
    "plt.ylabel('True Positive Rate')\n",
    "plt.xlabel('False Positive Rate')\n",
    "plt.show()"
   ]
  },
  {
   "cell_type": "code",
   "execution_count": null,
   "metadata": {
    "collapsed": true
   },
   "outputs": [],
   "source": []
  }
 ],
 "metadata": {
  "kernelspec": {
   "display_name": "Python 3",
   "language": "python",
   "name": "python3"
  },
  "language_info": {
   "codemirror_mode": {
    "name": "ipython",
    "version": 3
   },
   "file_extension": ".py",
   "mimetype": "text/x-python",
   "name": "python",
   "nbconvert_exporter": "python",
   "pygments_lexer": "ipython3",
   "version": "3.6.3"
  }
 },
 "nbformat": 4,
 "nbformat_minor": 2
}
