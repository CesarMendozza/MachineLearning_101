{
 "cells": [
  {
   "cell_type": "code",
   "execution_count": 59,
   "metadata": {
    "collapsed": true
   },
   "outputs": [],
   "source": [
    "import numpy as np\n",
    "import pandas as pd\n",
    "import warnings \n",
    "warnings.filterwarnings('ignore')\n",
    "from sklearn import tree\n",
    "from sklearn.metrics import roc_auc_score\n",
    "from sklearn.metrics import roc_curve\n",
    "from sklearn import metrics\n",
    "%matplotlib inline\n",
    "from matplotlib import pyplot as plt"
   ]
  },
  {
   "cell_type": "code",
   "execution_count": 60,
   "metadata": {},
   "outputs": [
    {
     "data": {
      "text/html": [
       "<div>\n",
       "<style>\n",
       "    .dataframe thead tr:only-child th {\n",
       "        text-align: right;\n",
       "    }\n",
       "\n",
       "    .dataframe thead th {\n",
       "        text-align: left;\n",
       "    }\n",
       "\n",
       "    .dataframe tbody tr th {\n",
       "        vertical-align: top;\n",
       "    }\n",
       "</style>\n",
       "<table border=\"1\" class=\"dataframe\">\n",
       "  <thead>\n",
       "    <tr style=\"text-align: right;\">\n",
       "      <th></th>\n",
       "      <th>Cli_ItemID</th>\n",
       "      <th>ttl_Cli</th>\n",
       "      <th>AVG_CLI</th>\n",
       "      <th>Item_CLI</th>\n",
       "      <th>Fre_Cli_Itm</th>\n",
       "      <th>IN_Fre_Ctg</th>\n",
       "      <th>Cli_Wd</th>\n",
       "      <th>Cli_T</th>\n",
       "      <th>Dur_Sec</th>\n",
       "      <th>Cli_buy</th>\n",
       "      <th>Item_bought_P90</th>\n",
       "      <th>Fir_Cli</th>\n",
       "      <th>Las_Cli</th>\n",
       "      <th>Item_avg_pric</th>\n",
       "      <th>AVG_Pric</th>\n",
       "      <th>Pri_ctg_P90</th>\n",
       "      <th>below_ctg_avg_pric</th>\n",
       "      <th>below_ctg_P90</th>\n",
       "    </tr>\n",
       "  </thead>\n",
       "  <tbody>\n",
       "    <tr>\n",
       "      <th>0</th>\n",
       "      <td>214851326.0</td>\n",
       "      <td>8.0</td>\n",
       "      <td>2.0</td>\n",
       "      <td>3.0</td>\n",
       "      <td>1.0</td>\n",
       "      <td>1.0</td>\n",
       "      <td>5.0</td>\n",
       "      <td>3.0</td>\n",
       "      <td>255.0</td>\n",
       "      <td>3.0</td>\n",
       "      <td>1.0</td>\n",
       "      <td>0.0</td>\n",
       "      <td>0.0</td>\n",
       "      <td>1046.0</td>\n",
       "      <td>1923.025449</td>\n",
       "      <td>4920.6</td>\n",
       "      <td>1.0</td>\n",
       "      <td>1.0</td>\n",
       "    </tr>\n",
       "    <tr>\n",
       "      <th>1</th>\n",
       "      <td>214853248.0</td>\n",
       "      <td>8.0</td>\n",
       "      <td>2.0</td>\n",
       "      <td>1.0</td>\n",
       "      <td>0.0</td>\n",
       "      <td>0.0</td>\n",
       "      <td>5.0</td>\n",
       "      <td>3.0</td>\n",
       "      <td>0.0</td>\n",
       "      <td>1.0</td>\n",
       "      <td>1.0</td>\n",
       "      <td>0.0</td>\n",
       "      <td>0.0</td>\n",
       "      <td>837.0</td>\n",
       "      <td>2061.555292</td>\n",
       "      <td>48380.5</td>\n",
       "      <td>1.0</td>\n",
       "      <td>1.0</td>\n",
       "    </tr>\n",
       "    <tr>\n",
       "      <th>2</th>\n",
       "      <td>214853094.0</td>\n",
       "      <td>8.0</td>\n",
       "      <td>2.0</td>\n",
       "      <td>1.0</td>\n",
       "      <td>0.0</td>\n",
       "      <td>1.0</td>\n",
       "      <td>5.0</td>\n",
       "      <td>3.0</td>\n",
       "      <td>0.0</td>\n",
       "      <td>1.0</td>\n",
       "      <td>1.0</td>\n",
       "      <td>0.0</td>\n",
       "      <td>0.0</td>\n",
       "      <td>4188.0</td>\n",
       "      <td>1923.025449</td>\n",
       "      <td>4920.6</td>\n",
       "      <td>0.0</td>\n",
       "      <td>1.0</td>\n",
       "    </tr>\n",
       "    <tr>\n",
       "      <th>3</th>\n",
       "      <td>214853090.0</td>\n",
       "      <td>8.0</td>\n",
       "      <td>2.0</td>\n",
       "      <td>3.0</td>\n",
       "      <td>1.0</td>\n",
       "      <td>1.0</td>\n",
       "      <td>5.0</td>\n",
       "      <td>3.0</td>\n",
       "      <td>3117.0</td>\n",
       "      <td>3.0</td>\n",
       "      <td>1.0</td>\n",
       "      <td>1.0</td>\n",
       "      <td>1.0</td>\n",
       "      <td>4188.0</td>\n",
       "      <td>1923.025449</td>\n",
       "      <td>4920.6</td>\n",
       "      <td>0.0</td>\n",
       "      <td>1.0</td>\n",
       "    </tr>\n",
       "    <tr>\n",
       "      <th>4</th>\n",
       "      <td>214567333.0</td>\n",
       "      <td>4.0</td>\n",
       "      <td>1.0</td>\n",
       "      <td>1.0</td>\n",
       "      <td>0.0</td>\n",
       "      <td>1.0</td>\n",
       "      <td>7.0</td>\n",
       "      <td>2.0</td>\n",
       "      <td>0.0</td>\n",
       "      <td>1.0</td>\n",
       "      <td>1.0</td>\n",
       "      <td>0.0</td>\n",
       "      <td>0.0</td>\n",
       "      <td>837.0</td>\n",
       "      <td>2061.555292</td>\n",
       "      <td>48380.5</td>\n",
       "      <td>1.0</td>\n",
       "      <td>1.0</td>\n",
       "    </tr>\n",
       "  </tbody>\n",
       "</table>\n",
       "</div>"
      ],
      "text/plain": [
       "    Cli_ItemID  ttl_Cli  AVG_CLI  Item_CLI  Fre_Cli_Itm  IN_Fre_Ctg  Cli_Wd  \\\n",
       "0  214851326.0      8.0      2.0       3.0          1.0         1.0     5.0   \n",
       "1  214853248.0      8.0      2.0       1.0          0.0         0.0     5.0   \n",
       "2  214853094.0      8.0      2.0       1.0          0.0         1.0     5.0   \n",
       "3  214853090.0      8.0      2.0       3.0          1.0         1.0     5.0   \n",
       "4  214567333.0      4.0      1.0       1.0          0.0         1.0     7.0   \n",
       "\n",
       "   Cli_T  Dur_Sec  Cli_buy  Item_bought_P90  Fir_Cli  Las_Cli  Item_avg_pric  \\\n",
       "0    3.0    255.0      3.0              1.0      0.0      0.0         1046.0   \n",
       "1    3.0      0.0      1.0              1.0      0.0      0.0          837.0   \n",
       "2    3.0      0.0      1.0              1.0      0.0      0.0         4188.0   \n",
       "3    3.0   3117.0      3.0              1.0      1.0      1.0         4188.0   \n",
       "4    2.0      0.0      1.0              1.0      0.0      0.0          837.0   \n",
       "\n",
       "      AVG_Pric  Pri_ctg_P90  below_ctg_avg_pric  below_ctg_P90  \n",
       "0  1923.025449       4920.6                 1.0            1.0  \n",
       "1  2061.555292      48380.5                 1.0            1.0  \n",
       "2  1923.025449       4920.6                 0.0            1.0  \n",
       "3  1923.025449       4920.6                 0.0            1.0  \n",
       "4  2061.555292      48380.5                 1.0            1.0  "
      ]
     },
     "execution_count": 60,
     "metadata": {},
     "output_type": "execute_result"
    }
   ],
   "source": [
    "train = pd.read_csv('Task2_Train_Data_pro.csv', low_memory = False, delimiter =',')\n",
    "pre_target = train['Pred_Target'].values\n",
    "train.drop(['Buy_sesID'],axis=1,inplace = True )\n",
    "train.drop(['Unnamed: 0'], axis =1, inplace = True)\n",
    "train.drop(['Pred_Target'], axis =1, inplace = True)\n",
    "train.head()"
   ]
  },
  {
   "cell_type": "code",
   "execution_count": 61,
   "metadata": {},
   "outputs": [
    {
     "name": "stdout",
     "output_type": "stream",
     "text": [
      "<class 'pandas.core.frame.DataFrame'>\n",
      "RangeIndex: 355403 entries, 0 to 355402\n",
      "Data columns (total 18 columns):\n",
      "Cli_ItemID            355403 non-null category\n",
      "ttl_Cli               355403 non-null float64\n",
      "AVG_CLI               355403 non-null float64\n",
      "Item_CLI              355403 non-null float64\n",
      "Fre_Cli_Itm           355403 non-null category\n",
      "IN_Fre_Ctg            355403 non-null category\n",
      "Cli_Wd                355403 non-null category\n",
      "Cli_T                 355403 non-null category\n",
      "Dur_Sec               355403 non-null float64\n",
      "Cli_buy               355403 non-null category\n",
      "Item_bought_P90       355403 non-null category\n",
      "Fir_Cli               355403 non-null category\n",
      "Las_Cli               355403 non-null category\n",
      "Item_avg_pric         355403 non-null float64\n",
      "AVG_Pric              355403 non-null float64\n",
      "Pri_ctg_P90           355403 non-null float64\n",
      "below_ctg_avg_pric    355403 non-null category\n",
      "below_ctg_P90         355403 non-null category\n",
      "dtypes: category(11), float64(7)\n",
      "memory usage: 23.8 MB\n"
     ]
    }
   ],
   "source": [
    "train['Cli_ItemID'] = train['Cli_ItemID'].astype('category')\n",
    "train['Fre_Cli_Itm'] = train['Fre_Cli_Itm'].astype('category')\n",
    "train['IN_Fre_Ctg'] = train['IN_Fre_Ctg'].astype('category')\n",
    "train['Cli_Wd'] = train['Cli_Wd'].astype('category')\n",
    "train['Cli_T'] = train['Cli_T'].astype('category')\n",
    "train['Cli_buy'] = train['Cli_buy'].astype('category')\n",
    "train['Item_bought_P90'] = train['Item_bought_P90'].astype('category')\n",
    "train['Fir_Cli'] = train['Fir_Cli'].astype('category')\n",
    "train['Las_Cli'] = train['Las_Cli'].astype('category')\n",
    "train['below_ctg_avg_pric'] = train['below_ctg_avg_pric'].astype('category')\n",
    "train['below_ctg_P90'] = train['below_ctg_P90'].astype('category')\n",
    "train.info()"
   ]
  },
  {
   "cell_type": "code",
   "execution_count": 62,
   "metadata": {
    "collapsed": true
   },
   "outputs": [],
   "source": [
    "clf = tree.DecisionTreeClassifier()\n",
    "clf = clf.fit(train, pre_target)"
   ]
  },
  {
   "cell_type": "code",
   "execution_count": 63,
   "metadata": {},
   "outputs": [],
   "source": [
    "y_pred = clf.predict(train)"
   ]
  },
  {
   "cell_type": "code",
   "execution_count": 65,
   "metadata": {},
   "outputs": [
    {
     "data": {
      "text/plain": [
       "array([[ 0.,  1.],\n",
       "       [ 1.,  0.],\n",
       "       [ 1.,  0.],\n",
       "       ..., \n",
       "       [ 0.,  1.],\n",
       "       [ 1.,  0.],\n",
       "       [ 0.,  1.]])"
      ]
     },
     "execution_count": 65,
     "metadata": {},
     "output_type": "execute_result"
    }
   ],
   "source": [
    "clf.predict_proba(train)"
   ]
  },
  {
   "cell_type": "code",
   "execution_count": 66,
   "metadata": {},
   "outputs": [
    {
     "data": {
      "text/plain": [
       "0.96780154455937895"
      ]
     },
     "execution_count": 66,
     "metadata": {},
     "output_type": "execute_result"
    }
   ],
   "source": [
    "roc_auc_score(pre_target,y_pred)"
   ]
  },
  {
   "cell_type": "code",
   "execution_count": 67,
   "metadata": {
    "collapsed": true
   },
   "outputs": [
    {
     "data": {
      "image/png": "[encoded data removed]",
      "text/plain": [
       "<matplotlib.figure.Figure at 0x2a680252320>"
      ]
     },
     "metadata": {},
     "output_type": "display_data"
    }
   ],
   "source": [
    "\n",
    "fpr, tpr, threshold = roc_curve(pre_target, y_pred)\n",
    "df = pd.DataFrame(dict(fpr = fpr, tpr =tpr))\n",
    "roc_auc = metrics.auc(fpr,tpr)\n",
    "\n",
    "plt.title('Train ROC curve')\n",
    "plt.plot(fpr,tpr,'b', label = 'AUC = %0.2f' % roc_auc)\n",
    "plt.plot([0,1],[0,1],'r--')\n",
    "plt.xlim([0,1])\n",
    "plt.ylim([0,1])\n",
    "plt.ylabel('True Positive Rate')\n",
    "plt.xlabel('False Positive Rate')\n",
    "plt.show()\n"
   ]
  },
  {
   "cell_type": "code",
   "execution_count": 74,
   "metadata": {},
   "outputs": [
    {
     "data": {
      "text/plain": [
       "0.99780497448272687"
      ]
     },
     "execution_count": 74,
     "metadata": {},
     "output_type": "execute_result"
    }
   ],
   "source": [
    "clr = tree.DecisionTreeRegressor()\n",
    "clr = clr.fit(train,pre_target)\n",
    "y_pred_r = clr.predict(train)\n",
    "roc_auc_score(pre_target,y_pred_r)"
   ]
  },
  {
   "cell_type": "markdown",
   "metadata": {},
   "source": [
    "Validation"
   ]
  },
  {
   "cell_type": "code",
   "execution_count": 78,
   "metadata": {},
   "outputs": [
    {
     "data": {
      "text/html": [
       "<div>\n",
       "<style>\n",
       "    .dataframe thead tr:only-child th {\n",
       "        text-align: right;\n",
       "    }\n",
       "\n",
       "    .dataframe thead th {\n",
       "        text-align: left;\n",
       "    }\n",
       "\n",
       "    .dataframe tbody tr th {\n",
       "        vertical-align: top;\n",
       "    }\n",
       "</style>\n",
       "<table border=\"1\" class=\"dataframe\">\n",
       "  <thead>\n",
       "    <tr style=\"text-align: right;\">\n",
       "      <th></th>\n",
       "      <th>Cli_ItemID</th>\n",
       "      <th>ttl_Cli</th>\n",
       "      <th>AVG_CLI</th>\n",
       "      <th>Item_CLI</th>\n",
       "      <th>Fre_Cli_Itm</th>\n",
       "      <th>IN_Fre_Ctg</th>\n",
       "      <th>Cli_Wd</th>\n",
       "      <th>Cli_T</th>\n",
       "      <th>Dur_Sec</th>\n",
       "      <th>Cli_buy</th>\n",
       "      <th>Item_bought_P90</th>\n",
       "      <th>Fir_Cli</th>\n",
       "      <th>Las_Cli</th>\n",
       "      <th>Item_avg_pric</th>\n",
       "      <th>AVG_Pric</th>\n",
       "      <th>Pri_ctg_P90</th>\n",
       "      <th>below_ctg_avg_pric</th>\n",
       "      <th>below_ctg_P90</th>\n",
       "    </tr>\n",
       "  </thead>\n",
       "  <tbody>\n",
       "    <tr>\n",
       "      <th>0</th>\n",
       "      <td>214854358.0</td>\n",
       "      <td>5.0</td>\n",
       "      <td>2.5</td>\n",
       "      <td>2.0</td>\n",
       "      <td>0.0</td>\n",
       "      <td>1.0</td>\n",
       "      <td>4.0</td>\n",
       "      <td>3.0</td>\n",
       "      <td>149.0</td>\n",
       "      <td>3.0</td>\n",
       "      <td>1.0</td>\n",
       "      <td>1.0</td>\n",
       "      <td>1.0</td>\n",
       "      <td>1360.0</td>\n",
       "      <td>1923.025449</td>\n",
       "      <td>4920.6</td>\n",
       "      <td>1.0</td>\n",
       "      <td>1.0</td>\n",
       "    </tr>\n",
       "    <tr>\n",
       "      <th>1</th>\n",
       "      <td>214859126.0</td>\n",
       "      <td>5.0</td>\n",
       "      <td>2.5</td>\n",
       "      <td>3.0</td>\n",
       "      <td>1.0</td>\n",
       "      <td>1.0</td>\n",
       "      <td>4.0</td>\n",
       "      <td>3.0</td>\n",
       "      <td>946.0</td>\n",
       "      <td>3.0</td>\n",
       "      <td>1.0</td>\n",
       "      <td>1.0</td>\n",
       "      <td>1.0</td>\n",
       "      <td>1570.0</td>\n",
       "      <td>1923.025449</td>\n",
       "      <td>4920.6</td>\n",
       "      <td>1.0</td>\n",
       "      <td>1.0</td>\n",
       "    </tr>\n",
       "    <tr>\n",
       "      <th>2</th>\n",
       "      <td>214712244.0</td>\n",
       "      <td>3.0</td>\n",
       "      <td>1.0</td>\n",
       "      <td>1.0</td>\n",
       "      <td>0.0</td>\n",
       "      <td>1.0</td>\n",
       "      <td>3.0</td>\n",
       "      <td>4.0</td>\n",
       "      <td>0.0</td>\n",
       "      <td>1.0</td>\n",
       "      <td>1.0</td>\n",
       "      <td>1.0</td>\n",
       "      <td>1.0</td>\n",
       "      <td>947.0</td>\n",
       "      <td>2061.555292</td>\n",
       "      <td>48380.5</td>\n",
       "      <td>1.0</td>\n",
       "      <td>1.0</td>\n",
       "    </tr>\n",
       "    <tr>\n",
       "      <th>3</th>\n",
       "      <td>214676480.0</td>\n",
       "      <td>3.0</td>\n",
       "      <td>1.0</td>\n",
       "      <td>1.0</td>\n",
       "      <td>0.0</td>\n",
       "      <td>1.0</td>\n",
       "      <td>3.0</td>\n",
       "      <td>4.0</td>\n",
       "      <td>0.0</td>\n",
       "      <td>1.0</td>\n",
       "      <td>1.0</td>\n",
       "      <td>1.0</td>\n",
       "      <td>1.0</td>\n",
       "      <td>5538.0</td>\n",
       "      <td>2061.555292</td>\n",
       "      <td>48380.5</td>\n",
       "      <td>0.0</td>\n",
       "      <td>1.0</td>\n",
       "    </tr>\n",
       "    <tr>\n",
       "      <th>4</th>\n",
       "      <td>214690839.0</td>\n",
       "      <td>3.0</td>\n",
       "      <td>1.0</td>\n",
       "      <td>1.0</td>\n",
       "      <td>0.0</td>\n",
       "      <td>1.0</td>\n",
       "      <td>3.0</td>\n",
       "      <td>4.0</td>\n",
       "      <td>0.0</td>\n",
       "      <td>1.0</td>\n",
       "      <td>0.0</td>\n",
       "      <td>0.0</td>\n",
       "      <td>0.0</td>\n",
       "      <td>686.0</td>\n",
       "      <td>2061.555292</td>\n",
       "      <td>48380.5</td>\n",
       "      <td>1.0</td>\n",
       "      <td>1.0</td>\n",
       "    </tr>\n",
       "  </tbody>\n",
       "</table>\n",
       "</div>"
      ],
      "text/plain": [
       "    Cli_ItemID  ttl_Cli  AVG_CLI  Item_CLI  Fre_Cli_Itm  IN_Fre_Ctg  Cli_Wd  \\\n",
       "0  214854358.0      5.0      2.5       2.0          0.0         1.0     4.0   \n",
       "1  214859126.0      5.0      2.5       3.0          1.0         1.0     4.0   \n",
       "2  214712244.0      3.0      1.0       1.0          0.0         1.0     3.0   \n",
       "3  214676480.0      3.0      1.0       1.0          0.0         1.0     3.0   \n",
       "4  214690839.0      3.0      1.0       1.0          0.0         1.0     3.0   \n",
       "\n",
       "   Cli_T  Dur_Sec  Cli_buy  Item_bought_P90  Fir_Cli  Las_Cli  Item_avg_pric  \\\n",
       "0    3.0    149.0      3.0              1.0      1.0      1.0         1360.0   \n",
       "1    3.0    946.0      3.0              1.0      1.0      1.0         1570.0   \n",
       "2    4.0      0.0      1.0              1.0      1.0      1.0          947.0   \n",
       "3    4.0      0.0      1.0              1.0      1.0      1.0         5538.0   \n",
       "4    4.0      0.0      1.0              0.0      0.0      0.0          686.0   \n",
       "\n",
       "      AVG_Pric  Pri_ctg_P90  below_ctg_avg_pric  below_ctg_P90  \n",
       "0  1923.025449       4920.6                 1.0            1.0  \n",
       "1  1923.025449       4920.6                 1.0            1.0  \n",
       "2  2061.555292      48380.5                 1.0            1.0  \n",
       "3  2061.555292      48380.5                 0.0            1.0  \n",
       "4  2061.555292      48380.5                 1.0            1.0  "
      ]
     },
     "execution_count": 78,
     "metadata": {},
     "output_type": "execute_result"
    }
   ],
   "source": [
    "Valid = pd.read_csv('Task2_Validation_Data_pro.csv', low_memory = False, delimiter =',')\n",
    "pre_target_V = Valid['Pred_Target'].values\n",
    "Valid.drop(['Buy_sesID'], axis =1, inplace = True)\n",
    "Valid.drop(['Unnamed: 0'], axis =1, inplace = True)\n",
    "Valid.drop(['Pred_Target'], axis =1, inplace = True)\n",
    "Valid.head()"
   ]
  },
  {
   "cell_type": "code",
   "execution_count": 80,
   "metadata": {},
   "outputs": [
    {
     "name": "stdout",
     "output_type": "stream",
     "text": [
      "<class 'pandas.core.frame.DataFrame'>\n",
      "RangeIndex: 55704 entries, 0 to 55703\n",
      "Data columns (total 18 columns):\n",
      "Cli_ItemID            55704 non-null category\n",
      "ttl_Cli               55704 non-null float64\n",
      "AVG_CLI               55704 non-null float64\n",
      "Item_CLI              55704 non-null float64\n",
      "Fre_Cli_Itm           55704 non-null category\n",
      "IN_Fre_Ctg            55704 non-null category\n",
      "Cli_Wd                55704 non-null category\n",
      "Cli_T                 55704 non-null category\n",
      "Dur_Sec               55704 non-null float64\n",
      "Cli_buy               55704 non-null category\n",
      "Item_bought_P90       55704 non-null category\n",
      "Fir_Cli               55704 non-null category\n",
      "Las_Cli               55704 non-null category\n",
      "Item_avg_pric         55704 non-null float64\n",
      "AVG_Pric              55704 non-null float64\n",
      "Pri_ctg_P90           55704 non-null float64\n",
      "below_ctg_avg_pric    55704 non-null category\n",
      "below_ctg_P90         55704 non-null category\n",
      "dtypes: category(11), float64(7)\n",
      "memory usage: 4.0 MB\n"
     ]
    }
   ],
   "source": [
    "Valid['Cli_ItemID'] = Valid['Cli_ItemID'].astype('category')\n",
    "Valid['Fre_Cli_Itm'] = Valid['Fre_Cli_Itm'].astype('category')\n",
    "Valid['IN_Fre_Ctg'] = Valid['IN_Fre_Ctg'].astype('category')\n",
    "Valid['Cli_Wd'] = Valid['Cli_Wd'].astype('category')\n",
    "Valid['Cli_T'] = Valid['Cli_T'].astype('category')\n",
    "Valid['Cli_buy'] = Valid['Cli_buy'].astype('category')\n",
    "Valid['Item_bought_P90'] = Valid['Item_bought_P90'].astype('category')\n",
    "Valid['Fir_Cli'] = Valid['Fir_Cli'].astype('category')\n",
    "Valid['Las_Cli'] = Valid['Las_Cli'].astype('category')\n",
    "Valid['below_ctg_avg_pric'] = Valid['below_ctg_avg_pric'].astype('category')\n",
    "Valid['below_ctg_P90'] = Valid['below_ctg_P90'].astype('category')\n",
    "Valid.info()\n"
   ]
  },
  {
   "cell_type": "code",
   "execution_count": 83,
   "metadata": {
    "collapsed": true
   },
   "outputs": [],
   "source": [
    "y_pred_V = clr.predict(Valid)\n"
   ]
  },
  {
   "cell_type": "code",
   "execution_count": 84,
   "metadata": {},
   "outputs": [
    {
     "data": {
      "text/plain": [
       "0.6543267827895396"
      ]
     },
     "execution_count": 84,
     "metadata": {},
     "output_type": "execute_result"
    }
   ],
   "source": [
    "roc_auc_score(pre_target_V,y_pred_V)"
   ]
  },
  {
   "cell_type": "code",
   "execution_count": 72,
   "metadata": {},
   "outputs": [
    {
     "data": {
      "image/png": "[encoded data removed]",
      "text/plain": [
       "<matplotlib.figure.Figure at 0x2a680178748>"
      ]
     },
     "metadata": {},
     "output_type": "display_data"
    }
   ],
   "source": [
    "fpr, tpr, threshold = roc_curve(pre_target_V, y_pred_V)\n",
    "df = pd.DataFrame(dict(fpr = fpr, tpr =tpr))\n",
    "roc_auc = metrics.auc(fpr,tpr)\n",
    "\n",
    "plt.title('Valid ROC curve')\n",
    "plt.plot(fpr,tpr,'b', label = 'AUC = %0.2f' % roc_auc)\n",
    "plt.plot([0,1],[0,1],'r--')\n",
    "plt.xlim([0,1])\n",
    "plt.ylim([0,1])\n",
    "plt.ylabel('True Positive Rate')\n",
    "plt.xlabel('False Positive Rate')\n",
    "plt.show()"
   ]
  },
  {
   "cell_type": "markdown",
   "metadata": {},
   "source": [
    "Random Forest"
   ]
  },
  {
   "cell_type": "code",
   "execution_count": 85,
   "metadata": {
    "collapsed": true
   },
   "outputs": [],
   "source": [
    " from sklearn.ensemble import RandomForestClassifier"
   ]
  },
  {
   "cell_type": "code",
   "execution_count": 92,
   "metadata": {},
   "outputs": [
    {
     "data": {
      "text/plain": [
       "RandomForestClassifier(bootstrap=True, class_weight=None, criterion='gini',\n",
       "            max_depth=2, max_features='auto', max_leaf_nodes=None,\n",
       "            min_impurity_decrease=0.0, min_impurity_split=None,\n",
       "            min_samples_leaf=1, min_samples_split=2,\n",
       "            min_weight_fraction_leaf=0.0, n_estimators=10, n_jobs=1,\n",
       "            oob_score=False, random_state=0, verbose=0, warm_start=False)"
      ]
     },
     "execution_count": 92,
     "metadata": {},
     "output_type": "execute_result"
    }
   ],
   "source": [
    "m = RandomForestClassifier(max_depth = 2, random_state = 0)\n",
    "m.fit(train,pre_target)"
   ]
  },
  {
   "cell_type": "code",
   "execution_count": 93,
   "metadata": {},
   "outputs": [
    {
     "name": "stdout",
     "output_type": "stream",
     "text": [
      "[ 0.07370028  0.10277366  0.          0.          0.10964021  0.00789419\n",
      "  0.          0.          0.15475748  0.10726663  0.02752174  0.16883883\n",
      "  0.23194983  0.          0.00323606  0.01242109  0.          0.        ]\n"
     ]
    }
   ],
   "source": [
    "print(m.feature_importances_)"
   ]
  },
  {
   "cell_type": "code",
   "execution_count": 94,
   "metadata": {},
   "outputs": [],
   "source": [
    "y_pred = m.predict(train)"
   ]
  },
  {
   "cell_type": "code",
   "execution_count": 95,
   "metadata": {},
   "outputs": [
    {
     "data": {
      "text/plain": [
       "0.67197675840828508"
      ]
     },
     "execution_count": 95,
     "metadata": {},
     "output_type": "execute_result"
    }
   ],
   "source": [
    "roc_auc_score(pre_target,y_pred)"
   ]
  },
  {
   "cell_type": "markdown",
   "metadata": {},
   "source": [
    "Validation"
   ]
  },
  {
   "cell_type": "code",
   "execution_count": 96,
   "metadata": {
    "collapsed": true
   },
   "outputs": [],
   "source": [
    "y_pred_V = m.predict(Valid)"
   ]
  },
  {
   "cell_type": "code",
   "execution_count": 98,
   "metadata": {},
   "outputs": [
    {
     "data": {
      "text/plain": [
       "0.67510600597537795"
      ]
     },
     "execution_count": 98,
     "metadata": {},
     "output_type": "execute_result"
    }
   ],
   "source": [
    "roc_auc_score(pre_target_V,y_pred_V)"
   ]
  },
  {
   "cell_type": "code",
   "execution_count": null,
   "metadata": {
    "collapsed": true
   },
   "outputs": [],
   "source": []
  }
 ],
 "metadata": {
  "kernelspec": {
   "display_name": "Python 3",
   "language": "python",
   "name": "python3"
  },
  "language_info": {
   "codemirror_mode": {
    "name": "ipython",
    "version": 3
   },
   "file_extension": ".py",
   "mimetype": "text/x-python",
   "name": "python",
   "nbconvert_exporter": "python",
   "pygments_lexer": "ipython3",
   "version": "3.6.3"
  }
 },
 "nbformat": 4,
 "nbformat_minor": 2
}
